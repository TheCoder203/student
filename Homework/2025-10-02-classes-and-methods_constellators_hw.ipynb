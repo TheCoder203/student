{
 "cells": [
  {
   "cell_type": "markdown",
   "id": "3ddc81e9",
   "metadata": {},
   "source": [
    "---\n",
    "layout: post\n",
    "toc: True\n",
    "breadcrumb: True\n",
    "title: CSSE Classes and Methods HW\n",
    "description: These are the homework problems and popcorn hacks.\n",
    "permalink: /csse/fall_2025/javascript/classes-and-methods/homework\n",
    "author: Adya S, Niharika B, Salma Z, Anika S, Sophie H\n",
    "---"
   ]
  },
  {
   "cell_type": "markdown",
   "id": "04a627a9",
   "metadata": {},
   "source": [
    "## **Classes and Methods**"
   ]
  },
  {
   "cell_type": "markdown",
   "id": "a88704ec",
   "metadata": {},
   "source": [
    "### <u>Popcorn Hack 1 - Dice Roller</u>\n",
    "\n",
    "\n",
    "Instructions:\n",
    "Finish the code in the cell below (fill in underlines and add lines of code) so it works as described:\n",
    "\n",
    "- Create a class called Dice that:\n",
    "    - Has a property for the number of sides.\n",
    "    - Has a method roll() that returns a random number between 1 and the number of sides.\n",
    "\n",
    "\n",
    "At the bottom, test your game by making a DiceGame object and calling roll() a few times.\n",
    "\n",
    "The code is currently NOT functional. When you have completed this popcorn hack, the code should work. Have fun!"
   ]
  },
  {
   "cell_type": "code",
   "execution_count": 6,
   "id": "83cfb441",
   "metadata": {
    "vscode": {
     "languageId": "javascript"
    }
   },
   "outputs": [
    {
     "data": {
      "application/javascript": "\nclass Dice { // What should the name of the class be?\n  constructor(sides) { // Constructor to initialize the number of sides\n    this.sides = sides; // Number of sides on the dice\n  }\n\n  roll() { // What should the name of the method be?\n    return Math.floor(Math.random() * this.sides) + 1; // Rolls the dice and returns a number between 1 and the number of sides\n  }\n}\n\n// Test the Dice class:\n// INSTANTIATE A NEW DICE OBJECT WITH A NUMBER OF SIDES\nlet myDice = new Dice(6)\n// CALL THE ROLL METHOD A FEW TIMES AND PRINT THE RESULTS\nconsole.log(myDice.roll())\nconsole.log(myDice.roll())\nconsole.log(myDice.roll())\n",
      "text/plain": [
       "<IPython.core.display.Javascript object>"
      ]
     },
     "metadata": {},
     "output_type": "display_data"
    }
   ],
   "source": [
    "%%javascript\n",
    "\n",
    "class Dice { // What should the name of the class be?\n",
    "  constructor(sides) { // Constructor to initialize the number of sides\n",
    "    this.sides = sides; // Number of sides on the dice\n",
    "  }\n",
    "\n",
    "  roll() { // What should the name of the method be?\n",
    "    return Math.floor(Math.random() * this.sides) + 1; // Rolls the dice and returns a number between 1 and the number of sides\n",
    "  }\n",
    "}\n",
    "\n",
    "// Test the Dice class:\n",
    "// INSTANTIATE A NEW DICE OBJECT WITH A NUMBER OF SIDES\n",
    "let myDice = new Dice(6)\n",
    "// CALL THE ROLL METHOD A FEW TIMES AND PRINT THE RESULTS\n",
    "console.log(myDice.roll())\n",
    "console.log(myDice.roll())\n",
    "console.log(myDice.roll())\n"
   ]
  },
  {
   "cell_type": "markdown",
   "id": "eb525919",
   "metadata": {},
   "source": [
    "### <u>Popcorn Hack 2 - Pet Simulator</u>\n",
    "\n",
    "\n",
    "This hack is a bit more complicated than the first. Points will be awarded based on effort and completion.\n",
    "\n",
    "\n",
    "Analyze the block of code below. Then, complete the following instructions:\n",
    "\n",
    "\n",
    "1) Create a simple Pet class by filling in the _________.\n",
    "\n",
    "2) Add at least 2 properties (like hunger, energy, or happiness). EX: Stats decrease over time.\n",
    "\n",
    "3) Add at least two functioning methods (such as feed, play, or sleep) EX: Buttons increase stats.\n",
    "\n",
    "4) Give your pet a name and print their current properties.\n",
    "\n",
    "5) Bonus: Add a \"status\" method to print all your pet's stats.\n",
    "\n",
    "\n",
    "The code is currently NOT functional. When you have completed this popcorn hack, the code should work. Have fun!\n",
    "\n"
   ]
  },
  {
   "cell_type": "code",
   "execution_count": 24,
   "id": "740b316c",
   "metadata": {
    "vscode": {
     "languageId": "javascript"
    }
   },
   "outputs": [
    {
     "data": {
      "application/javascript": "\nclass Pet {\n  constructor(name) {\n    this.name = name;\n    this.hunger = 5;   // you can change these values\n    this.energy = 5;\n    this.happiness = 5;\n    this.intelligence = -1000000000\n  }\n\n  // TODO: Write at least 2 methods here\n  //Example:\n  feed() {\n    this.hunger -= 5\n    this.energy +=10\n    this.happiness += 10\n    console.log(\"Your pet\" + myPet + \"'s hunger went down by 5!\")\n    console.log(\"Your pet\" + myPet + \"'s energy went up by 10!\")\n    console.log(\"Your pet\" + myPet + \"'s happiness went up by 10!\")\n  }\n  //____________________________ // allow user to feed pet (add button to call this method)\n  //____________________________ // increase energy, decrease hunger, increase happiness\n  //____________________________ // print that the pet has been fed to console\n  play() {\n    this.hunger += 5\n    this.energy -=10\n    this.happiness += 20\n    console.log(\"Your pet\" + myPet + \"'s hunger went up by 5!\")\n    console.log(\"Your pet\" + myPet + \"'s energy went down by 10!\")\n    console.log(\"Your pet\" + myPet + \"'s happiness went up by 20!\")\n  }\n  //____________________________ // allow user to play w/ pet by clicking a button to call this method\n  //____________________________ // decrease energy, increase hunger, increase happiness\n  //____________________________ // print that the pet has been played with to console\n}\n\nconst myPet = new Pet(\"Pranay\"); // give your pet a name\nconsole.log(\"hunger: 5, this.energy = 5, this.happiness = 5, this.intelligence = -1000000000\" ); // print the properties of your pet to console\noutput.innerText = \"hunger: \" + this.hunger ; // print the properties of your pet\n\n// Test your methods below:\nmyPet.feed();\nmyPet.play();\n",
      "text/plain": [
       "<IPython.core.display.Javascript object>"
      ]
     },
     "metadata": {},
     "output_type": "display_data"
    }
   ],
   "source": [
    "%%javascript\n",
    "\n",
    "class Pet {\n",
    "  constructor(name) {\n",
    "    this.name = name;\n",
    "    this.hunger = 5;   // you can change these values\n",
    "    this.energy = 5;\n",
    "    this.happiness = 5;\n",
    "    this.intelligence = -1000000000\n",
    "  }\n",
    "\n",
    "  // TODO: Write at least 2 methods here\n",
    "  //Example:\n",
    "  feed() {\n",
    "    this.hunger -= 5\n",
    "    this.energy +=10\n",
    "    this.happiness += 10\n",
    "    console.log(\"Your pet\" + myPet + \"'s hunger went down by 5!\")\n",
    "    console.log(\"Your pet\" + myPet + \"'s energy went up by 10!\")\n",
    "    console.log(\"Your pet\" + myPet + \"'s happiness went up by 10!\")\n",
    "  }\n",
    "  //____________________________ // allow user to feed pet (add button to call this method)\n",
    "  //____________________________ // increase energy, decrease hunger, increase happiness\n",
    "  //____________________________ // print that the pet has been fed to console\n",
    "  play() {\n",
    "    this.hunger += 5\n",
    "    this.energy -=10\n",
    "    this.happiness += 20\n",
    "    console.log(\"Your pet\" + myPet + \"'s hunger went up by 5!\")\n",
    "    console.log(\"Your pet\" + myPet + \"'s energy went down by 10!\")\n",
    "    console.log(\"Your pet\" + myPet + \"'s happiness went up by 20!\")\n",
    "  }\n",
    "  //____________________________ // allow user to play w/ pet by clicking a button to call this method\n",
    "  //____________________________ // decrease energy, increase hunger, increase happiness\n",
    "  //____________________________ // print that the pet has been played with to console\n",
    "}\n",
    "\n",
    "const myPet = new Pet(\"Pranay\"); // give your pet a name\n",
    "console.log(\"hunger: 5, this.energy = 5, this.happiness = 5, this.intelligence = -1000000000\" ); // print the properties of your pet to console\n",
    "output.innerText = \"hunger: \" + this.hunger ; // print the properties of your pet\n",
    "\n",
    "// Test your methods below:\n",
    "myPet.feed();\n",
    "myPet.play();\n"
   ]
  },
  {
   "cell_type": "markdown",
   "id": "e7ae67bd",
   "metadata": {},
   "source": [
    "### <u>Homework</u>\n",
    "\n",
    "Complete the following questions in the next code block.\n",
    "\n",
    "1) Create a class Person with properties 'name' and 'age'. Print their properties.\n",
    "\n",
    "2) Add a method greet() to your Person class that prints a greeting using the person's name.\n",
    "\n",
    "3) Create a class Book with properties 'title', 'author', and 'pages'. Instantiate a book and print its properties.\n",
    "\n",
    "4) Add a method read(pages) to your Book class that increments a pagesRead property and prints a message.\n",
    "\n",
    "5) Add a method isLongBook() that returns true if pages > 300, otherwise false. Print the result for your book.\n",
    "\n",
    "6) Create a class Car with properties 'make', 'model', and 'fuel'. Add methods drive(distance) and refuel(amount). Print messages in each method.\n",
    "\n",
    "7) Add a static method info() to your Car class that prints 'Cars are vehicles.'\n",
    "\n",
    "8) Create a class ElectricCar that extends Car. Add a property 'battery' and a method charge(amount) that increases battery. Print battery level after charging.\n",
    "\n",
    "10) Create a routine that combines your objects: drive a Car, charge an ElectricCar, read pages from a Book, and call greet() on Person. Print outputs for each action.\n",
    "\n",
    "11) **Extra Credit:** Submit the original OOP Breakout Game Code (found on [OpenCS](https://github.com/Open-Coding-Society/pages/blob/main/hacks/breakout/breakout.md?plain=1)) after making the following edits:\n",
    "- Add another feature to the game: Add a method so that the ball must collide with some bricks twice for a brick to break completely.\n",
    "- Edit a method in the ball class to increase/decrease the speed of the ball: Please add a COMMENT on the game code that specifies which line you edited."
   ]
  },
  {
   "cell_type": "code",
   "execution_count": null,
   "id": "52d29f28",
   "metadata": {
    "vscode": {
     "languageId": "javascript"
    }
   },
   "outputs": [
    {
     "data": {
      "application/javascript": "\nclass Person {\n  constructor(name, age) {\n    this.name = name;\n    this.age = age;\n  }\n\n  greet() {\n    console.log(`Hello, my name is ${this.name}!`);\n  }\n}\n\n// 3, 4 & 5) Book class with properties, read method, and isLongBook method\nclass Book {\n  constructor(title, author, pages) {\n    this.title = title;\n    this.author = author;\n    this.pages = pages;\n    this.pagesRead = 0;\n  }\n\n  read(pages) {\n    this.pagesRead += pages;\n    if(this.pagesRead > this.pages) this.pagesRead = this.pages;\n    console.log(`You have read ${this.pagesRead} out of ${this.pages} pages.`);\n  }\n\n  isLongBook() {\n    return this.pages > 300;\n  }\n}\n\n// 6 & 7) Car class with drive, refuel, and static info methods\nclass Car {\n  constructor(make, model, fuel) {\n    this.make = make;\n    this.model = model;\n    this.fuel = fuel; // assume fuel is in liters\n  }\n\n  drive(distance) {\n    // Simple logic: driving consumes 0.1 liters per km\n    const fuelNeeded = distance * 0.1;\n    if (this.fuel >= fuelNeeded) {\n      this.fuel -= fuelNeeded;\n      console.log(`Drove ${distance} km. Fuel left: ${this.fuel.toFixed(2)} liters.`);\n    } else {\n      console.log(\"Not enough fuel to drive that distance.\");\n    }\n  }\n\n  refuel(amount) {\n    this.fuel += amount;\n    console.log(`Refueled ${amount} liters. Total fuel: ${this.fuel.toFixed(2)} liters.`);\n  }\n\n  static info() {\n    console.log(\"Cars are vehicles.\");\n  }\n}\n\n// 8) ElectricCar extending Car with battery and charge method\nclass ElectricCar extends Car {\n  constructor(make, model, fuel, battery) {\n    super(make, model, fuel);\n    this.battery = battery; // battery level in percentage 0-100\n  }\n\n  charge(amount) {\n    this.battery += amount;\n    if (this.battery > 100) this.battery = 100;\n    console.log(`Battery charged to ${this.battery}%.`);\n  }\n}\n\n// 10) Routine combining all actions\nconst person = new Person(\"Alice\", 30);\nconst book = new Book(\"JavaScript Basics\", \"John Doe\", 350);\nconst car = new Car(\"Toyota\", \"Corolla\", 10);\nconst electricCar = new ElectricCar(\"Tesla\", \"Model 3\", 0, 50);\n\n// Outputs\nconsole.log(\"Person properties:\", person);\nperson.greet();\n\nconsole.log(\"\\nBook properties:\", book);\nbook.read(120);\nconsole.log(`Is the book long? ${book.isLongBook()}`);\n\nconsole.log(\"\\nCar actions:\");\ncar.drive(50);\ncar.refuel(5);\n\nconsole.log(\"\\nElectric Car actions:\");\nelectricCar.charge(30);\n\nconsole.log(\"\\nStatic Car info:\");\nCar.info();\n",
      "text/plain": [
       "<IPython.core.display.Javascript object>"
      ]
     },
     "metadata": {},
     "output_type": "display_data"
    }
   ],
   "source": [
    "%%javascript\n",
    "\n",
    "class Person {\n",
    "  constructor(name, age) {\n",
    "    this.name = name;\n",
    "    this.age = age;\n",
    "  }\n",
    "\n",
    "  greet() {\n",
    "    console.log(`Hello, my name is ${this.name}!`);\n",
    "  }\n",
    "}\n",
    "\n",
    "// 3, 4 & 5) Book class with properties, read method, and isLongBook method\n",
    "class Book {\n",
    "  constructor(title, author, pages) {\n",
    "    this.title = title;\n",
    "    this.author = author;\n",
    "    this.pages = pages;\n",
    "    this.pagesRead = 0;\n",
    "  }\n",
    "\n",
    "  read(pages) {\n",
    "    this.pagesRead += pages;\n",
    "    if(this.pagesRead > this.pages) this.pagesRead = this.pages;\n",
    "    console.log(`You have read ${this.pagesRead} out of ${this.pages} pages.`);\n",
    "  }\n",
    "\n",
    "  isLongBook() {\n",
    "    return this.pages > 300;\n",
    "  }\n",
    "}\n",
    "\n",
    "// 6 & 7) Car class with drive, refuel, and static info methods\n",
    "class Car {\n",
    "  constructor(make, model, fuel) {\n",
    "    this.make = make;\n",
    "    this.model = model;\n",
    "    this.fuel = fuel; // assume fuel is in liters\n",
    "  }\n",
    "\n",
    "  drive(distance) {\n",
    "    // Simple logic: driving consumes 0.1 liters per km\n",
    "    const fuelNeeded = distance * 0.1;\n",
    "    if (this.fuel >= fuelNeeded) {\n",
    "      this.fuel -= fuelNeeded;\n",
    "      console.log(`Drove ${distance} km. Fuel left: ${this.fuel.toFixed(2)} liters.`);\n",
    "    } else {\n",
    "      console.log(\"Not enough fuel to drive that distance.\");\n",
    "    }\n",
    "  }\n",
    "\n",
    "  refuel(amount) {\n",
    "    this.fuel += amount;\n",
    "    console.log(`Refueled ${amount} liters. Total fuel: ${this.fuel.toFixed(2)} liters.`);\n",
    "  }\n",
    "\n",
    "  static info() {\n",
    "    console.log(\"Cars are vehicles.\");\n",
    "  }\n",
    "}\n",
    "\n",
    "// 8) ElectricCar extending Car with battery and charge method\n",
    "class ElectricCar extends Car {\n",
    "  constructor(make, model, fuel, battery) {\n",
    "    super(make, model, fuel);\n",
    "    this.battery = battery; // battery level in percentage 0-100\n",
    "  }\n",
    "\n",
    "  charge(amount) {\n",
    "    this.battery += amount;\n",
    "    if (this.battery > 100) this.battery = 100;\n",
    "    console.log(`Battery charged to ${this.battery}%.`);\n",
    "  }\n",
    "}\n",
    "\n",
    "// 10) Routine combining all actions\n",
    "const person = new Person(\"Alice\", 30);\n",
    "const book = new Book(\"JavaScript Basics\", \"Anish Gupta\", 350);\n",
    "const car = new Car(\"Toyota\", \"Corolla\", 10);\n",
    "const electricCar = new ElectricCar(\"Tesla\", \"Model 3\", 0, 50);\n",
    "\n",
    "// Outputs\n",
    "console.log(\"Person properties:\", person);\n",
    "person.greet();\n",
    "\n",
    "console.log(\"\\nBook properties:\", book);\n",
    "book.read(120);\n",
    "console.log(`Is the book long? ${book.isLongBook()}`);\n",
    "\n",
    "console.log(\"\\nCar actions:\");\n",
    "car.drive(50);\n",
    "car.refuel(5);\n",
    "\n",
    "console.log(\"\\nElectric Car actions:\");\n",
    "electricCar.charge(30);\n",
    "\n",
    "console.log(\"\\nStatic Car info:\");\n",
    "Car.info();"
   ]
  }
 ],
 "metadata": {
  "kernelspec": {
   "display_name": "venv",
   "language": "python",
   "name": "python3"
  },
  "language_info": {
   "codemirror_mode": {
    "name": "ipython",
    "version": 3
   },
   "file_extension": ".py",
   "mimetype": "text/x-python",
   "name": "python",
   "nbconvert_exporter": "python",
   "pygments_lexer": "ipython3",
   "version": "3.13.7"
  }
 },
 "nbformat": 4,
 "nbformat_minor": 5
}
